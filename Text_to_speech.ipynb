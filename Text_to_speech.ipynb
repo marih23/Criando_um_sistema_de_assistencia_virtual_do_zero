{
  "nbformat": 4,
  "nbformat_minor": 0,
  "metadata": {
    "colab": {
      "provenance": []
    },
    "kernelspec": {
      "name": "python3",
      "display_name": "Python 3"
    },
    "language_info": {
      "name": "python"
    }
  },
  "cells": [
    {
      "cell_type": "code",
      "execution_count": null,
      "metadata": {
        "id": "WjIKWhXhDoHp"
      },
      "outputs": [],
      "source": [
        "#instalar a biblioteca gTTS\n",
        "\n",
        "!pip install gTTS\n",
        "\n",
        "from gtts import gTTS"
      ]
    },
    {
      "cell_type": "code",
      "source": [
        "text_to_say = \"How are you doing?.\"\n",
        "\n",
        "language = \"en\"\n",
        "\n",
        "gtts_object = gTTS(text = text_to_say,\n",
        "                  lang = language,\n",
        "                  slow = False)\n",
        "\n",
        "gtts_object.save(\"/content/gtts.wav\")"
      ],
      "metadata": {
        "id": "yWa9qLI7DsVX"
      },
      "execution_count": null,
      "outputs": []
    },
    {
      "cell_type": "code",
      "source": [
        "from IPython.display import Audio\n",
        "\n",
        "Audio(\"/content/gtts.wav\")"
      ],
      "metadata": {
        "id": "gT2SFutHDueX"
      },
      "execution_count": null,
      "outputs": []
    },
    {
      "cell_type": "code",
      "source": [
        "french_text = \"Je vais au supermarché\"\n",
        "\n",
        "french_language = \"fr\"\n",
        "\n",
        "french_gtts_object = gTTS(text = french_text,\n",
        "                          lang = french_language,\n",
        "                          slow = True)\n",
        "\n",
        "french_gtts_object.save(\"/content/french.wav\")\n",
        "\n",
        "Audio(\"/content/french.wav\")"
      ],
      "metadata": {
        "id": "mL99CYlTDw7f"
      },
      "execution_count": null,
      "outputs": []
    },
    {
      "cell_type": "code",
      "source": [
        "portuguese_text = \"Amanhã tenho aula\"\n",
        "\n",
        "portuguese_language = \"pt\"\n",
        "\n",
        "portuguese_gtts_object = gTTS(text = portuguese_text,\n",
        "                              lang = portuguese_language,\n",
        "                              slow = True)\n",
        "\n",
        "portuguese_gtts_object.save(\"/content/portuguese.wav\")\n",
        "\n",
        "Audio(\"/content/portuguese.wav\")"
      ],
      "metadata": {
        "id": "BwQ-iY9wDy2H"
      },
      "execution_count": null,
      "outputs": []
    },
    {
      "cell_type": "code",
      "source": [
        "spanish_text = \"Hoy estoy estudiando español\"\n",
        "\n",
        "spanish_language = \"es\"\n",
        "\n",
        "spanish_gtts_object = gTTS(text = spanish_text,\n",
        "                          lang = spanish_language,\n",
        "                          slow = True)\n",
        "\n",
        "spanish_gtts_object.save(\"/content/spanish.wav\")\n",
        "\n",
        "Audio(\"/content/spanish.wav\")"
      ],
      "metadata": {
        "id": "A8alzR4zD0pP"
      },
      "execution_count": null,
      "outputs": []
    },
    {
      "cell_type": "code",
      "source": [
        "korean_text = \"오늘은 한국어를 공부해요\"\n",
        "\n",
        "korean_language = \"ko\"\n",
        "\n",
        "korean_gtts_object = gTTS(text = korean_text,\n",
        "                          lang = korean_language,\n",
        "                          slow = True)\n",
        "\n",
        "korean_gtts_object.save(\"/content/korean.wav\")\n",
        "\n",
        "Audio(\"/content/korean.wav\")"
      ],
      "metadata": {
        "id": "lcj1XLRmD2fn"
      },
      "execution_count": null,
      "outputs": []
    },
    {
      "cell_type": "code",
      "source": [
        "japanese_text = \"私は日本語が流暢です\"\n",
        "\n",
        "japanese_language = \"ja\"\n",
        "\n",
        "japanese_gtts_object = gTTS(text = japanese_text,\n",
        "                          lang = japanese_language,\n",
        "                          slow = True)\n",
        "\n",
        "japanese_gtts_object.save(\"/content/japanese.wav\")\n",
        "\n",
        "Audio(\"/content/japanese.wav\")"
      ],
      "metadata": {
        "id": "sbzoeZO-D4O_"
      },
      "execution_count": null,
      "outputs": []
    }
  ]
}